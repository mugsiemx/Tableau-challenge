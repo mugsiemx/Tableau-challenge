{
 "cells": [
  {
   "cell_type": "code",
   "execution_count": 1,
   "id": "2d2f8a0e",
   "metadata": {},
   "outputs": [],
   "source": [
    "# import dependencies\n",
    "import datetime as dt\n",
    "import pandas as pd\n",
    "import numpy as np\n",
    "import requests, io, zipfile, os, time\n",
    "import dask.dataframe as dd\n",
    "# import urllib.request\n",
    "# from urllib.error import URLError\n"
   ]
  },
  {
   "cell_type": "code",
   "execution_count": 2,
   "id": "0db797fb",
   "metadata": {},
   "outputs": [],
   "source": [
    "# format of url = \"https://s3.amazonaws.com/tripdata/201306-citibike-tripdata.zip\"\n",
    "url_base = 'https://s3.amazonaws.com/tripdata/'\n",
    "\n",
    "root = 'Resources'\n",
    "\n",
    "result_files = []\n",
    "rename_files = []"
   ]
  },
  {
   "cell_type": "code",
   "execution_count": 3,
   "id": "48f6c717",
   "metadata": {},
   "outputs": [
    {
     "name": "stdout",
     "output_type": "stream",
     "text": [
      "https://s3.amazonaws.com/tripdata/202201-citibike-tripdata.csv.zip\n",
      "https://s3.amazonaws.com/tripdata/202202-citibike-tripdata.csv.zip\n",
      "https://s3.amazonaws.com/tripdata/202203-citibike-tripdata.csv.zip\n",
      "https://s3.amazonaws.com/tripdata/202204-citibike-tripdata.csv.zip\n",
      "https://s3.amazonaws.com/tripdata/202205-citibike-tripdata.csv.zip\n",
      "https://s3.amazonaws.com/tripdata/202206-citibike-tripdata.csv.zip\n"
     ]
    },
    {
     "ename": "BadZipFile",
     "evalue": "File is not a zip file",
     "output_type": "error",
     "traceback": [
      "\u001b[1;31m---------------------------------------------------------------------------\u001b[0m",
      "\u001b[1;31mBadZipFile\u001b[0m                                Traceback (most recent call last)",
      "\u001b[1;32m~\\AppData\\Local\\Temp\\ipykernel_20724\\1614254582.py\u001b[0m in \u001b[0;36m<module>\u001b[1;34m\u001b[0m\n\u001b[0;32m     28\u001b[0m         \u001b[1;31m# make request for csv file\u001b[0m\u001b[1;33m\u001b[0m\u001b[1;33m\u001b[0m\u001b[1;33m\u001b[0m\u001b[0m\n\u001b[0;32m     29\u001b[0m         \u001b[0mr\u001b[0m \u001b[1;33m=\u001b[0m \u001b[0mrequests\u001b[0m\u001b[1;33m.\u001b[0m\u001b[0mget\u001b[0m\u001b[1;33m(\u001b[0m\u001b[0murl\u001b[0m\u001b[1;33m)\u001b[0m\u001b[1;33m\u001b[0m\u001b[1;33m\u001b[0m\u001b[0m\n\u001b[1;32m---> 30\u001b[1;33m         \u001b[0mun_zipped\u001b[0m \u001b[1;33m=\u001b[0m \u001b[0mzipfile\u001b[0m\u001b[1;33m.\u001b[0m\u001b[0mZipFile\u001b[0m\u001b[1;33m(\u001b[0m\u001b[0mio\u001b[0m\u001b[1;33m.\u001b[0m\u001b[0mBytesIO\u001b[0m\u001b[1;33m(\u001b[0m\u001b[0mr\u001b[0m\u001b[1;33m.\u001b[0m\u001b[0mcontent\u001b[0m\u001b[1;33m)\u001b[0m\u001b[1;33m)\u001b[0m\u001b[1;33m\u001b[0m\u001b[1;33m\u001b[0m\u001b[0m\n\u001b[0m\u001b[0;32m     31\u001b[0m \u001b[1;33m\u001b[0m\u001b[0m\n\u001b[0;32m     32\u001b[0m         \u001b[1;31m# download only the existing file in the root directory\u001b[0m\u001b[1;33m\u001b[0m\u001b[1;33m\u001b[0m\u001b[1;33m\u001b[0m\u001b[0m\n",
      "\u001b[1;32m~\\anaconda3\\envs\\PythonData\\lib\\zipfile.py\u001b[0m in \u001b[0;36m__init__\u001b[1;34m(self, file, mode, compression, allowZip64, compresslevel)\u001b[0m\n\u001b[0;32m   1256\u001b[0m         \u001b[1;32mtry\u001b[0m\u001b[1;33m:\u001b[0m\u001b[1;33m\u001b[0m\u001b[1;33m\u001b[0m\u001b[0m\n\u001b[0;32m   1257\u001b[0m             \u001b[1;32mif\u001b[0m \u001b[0mmode\u001b[0m \u001b[1;33m==\u001b[0m \u001b[1;34m'r'\u001b[0m\u001b[1;33m:\u001b[0m\u001b[1;33m\u001b[0m\u001b[1;33m\u001b[0m\u001b[0m\n\u001b[1;32m-> 1258\u001b[1;33m                 \u001b[0mself\u001b[0m\u001b[1;33m.\u001b[0m\u001b[0m_RealGetContents\u001b[0m\u001b[1;33m(\u001b[0m\u001b[1;33m)\u001b[0m\u001b[1;33m\u001b[0m\u001b[1;33m\u001b[0m\u001b[0m\n\u001b[0m\u001b[0;32m   1259\u001b[0m             \u001b[1;32melif\u001b[0m \u001b[0mmode\u001b[0m \u001b[1;32min\u001b[0m \u001b[1;33m(\u001b[0m\u001b[1;34m'w'\u001b[0m\u001b[1;33m,\u001b[0m \u001b[1;34m'x'\u001b[0m\u001b[1;33m)\u001b[0m\u001b[1;33m:\u001b[0m\u001b[1;33m\u001b[0m\u001b[1;33m\u001b[0m\u001b[0m\n\u001b[0;32m   1260\u001b[0m                 \u001b[1;31m# set the modified flag so central directory gets written\u001b[0m\u001b[1;33m\u001b[0m\u001b[1;33m\u001b[0m\u001b[1;33m\u001b[0m\u001b[0m\n",
      "\u001b[1;32m~\\anaconda3\\envs\\PythonData\\lib\\zipfile.py\u001b[0m in \u001b[0;36m_RealGetContents\u001b[1;34m(self)\u001b[0m\n\u001b[0;32m   1323\u001b[0m             \u001b[1;32mraise\u001b[0m \u001b[0mBadZipFile\u001b[0m\u001b[1;33m(\u001b[0m\u001b[1;34m\"File is not a zip file\"\u001b[0m\u001b[1;33m)\u001b[0m\u001b[1;33m\u001b[0m\u001b[1;33m\u001b[0m\u001b[0m\n\u001b[0;32m   1324\u001b[0m         \u001b[1;32mif\u001b[0m \u001b[1;32mnot\u001b[0m \u001b[0mendrec\u001b[0m\u001b[1;33m:\u001b[0m\u001b[1;33m\u001b[0m\u001b[1;33m\u001b[0m\u001b[0m\n\u001b[1;32m-> 1325\u001b[1;33m             \u001b[1;32mraise\u001b[0m \u001b[0mBadZipFile\u001b[0m\u001b[1;33m(\u001b[0m\u001b[1;34m\"File is not a zip file\"\u001b[0m\u001b[1;33m)\u001b[0m\u001b[1;33m\u001b[0m\u001b[1;33m\u001b[0m\u001b[0m\n\u001b[0m\u001b[0;32m   1326\u001b[0m         \u001b[1;32mif\u001b[0m \u001b[0mself\u001b[0m\u001b[1;33m.\u001b[0m\u001b[0mdebug\u001b[0m \u001b[1;33m>\u001b[0m \u001b[1;36m1\u001b[0m\u001b[1;33m:\u001b[0m\u001b[1;33m\u001b[0m\u001b[1;33m\u001b[0m\u001b[0m\n\u001b[0;32m   1327\u001b[0m             \u001b[0mprint\u001b[0m\u001b[1;33m(\u001b[0m\u001b[0mendrec\u001b[0m\u001b[1;33m)\u001b[0m\u001b[1;33m\u001b[0m\u001b[1;33m\u001b[0m\u001b[0m\n",
      "\u001b[1;31mBadZipFile\u001b[0m: File is not a zip file"
     ]
    }
   ],
   "source": [
    "# year_list = [2022, 2021]\n",
    "month_list = [1,2,3,4,5,6,7,8,9,10,11,12]\n",
    "year_list = [2022]\n",
    "# month_list = [1,2,3]\n",
    "    \n",
    "# of months to loop through\n",
    "for y in year_list:\n",
    "    url_year = y\n",
    "    \n",
    "    for m in month_list:\n",
    "        url_month = m\n",
    "        url_file_prefix = f'{url_year:04d}{url_month:02d}'\n",
    "\n",
    "        # set up file name\n",
    "        new_file = url_file_prefix + '.csv'\n",
    "\n",
    "        # directory files same through 2016, changed for 2017\n",
    "        url_file_2016 = '-citibike-tripdata.zip'\n",
    "        url_file_2017 = '-citibike-tripdata.csv.zip'\n",
    "\n",
    "        # build the proper url to get data from files in the directory\n",
    "        if url_year >= 2017:\n",
    "            url = url_base + url_file_prefix + url_file_2017\n",
    "        else:\n",
    "            url = url_base + url_file_prefix + url_file_2016\n",
    "        print(url) \n",
    "\n",
    "        # make request for csv file\n",
    "        r = requests.get(url)\n",
    "        un_zipped = zipfile.ZipFile(io.BytesIO(r.content))\n",
    "\n",
    "        # download only the existing file in the root directory\n",
    "        with un_zipped as zf:\n",
    "            for file in zf.namelist():\n",
    "\n",
    "                # not in root directory, pass, otherwise save\n",
    "                if file.startswith('_'):\n",
    "                    pass\n",
    "                else:\n",
    "                    zf.extract(file, root)                        \n",
    "                    result_files.append(file)\n",
    "                    rename_files.append(new_file)\n"
   ]
  },
  {
   "cell_type": "code",
   "execution_count": null,
   "id": "0f90b054",
   "metadata": {},
   "outputs": [],
   "source": [
    "# Function to rename files for clarity and easier looping to combine the data\n",
    "##  https://www.tutorialspoint.com/rename-multiple-files-using-python\n",
    "\n",
    "def main():\n",
    "    for i, file in enumerate(os.listdir(root)):\n",
    "        source = f'{root}/{result_files[i]}'\n",
    "        destination = f'{root}/{rename_files[i]}'\n",
    "        os.rename(source, destination)\n",
    "# Driver Code\n",
    "if __name__ == '__main__':     \n",
    "    # Calling main() function\n",
    "    main()"
   ]
  },
  {
   "cell_type": "code",
   "execution_count": null,
   "id": "ff15728d",
   "metadata": {},
   "outputs": [],
   "source": [
    "# create list for csv reads\n",
    "path_list = []\n",
    "for i, csv_file in enumerate(rename_files):\n",
    "    path = f'{root}/{csv_file}'\n",
    "    path_list.append(path)\n",
    "\n",
    "# for curiosity, time taken to read data\n",
    "## dask documentation from https://www.geeksforgeeks.org/working-with-large-csv-files-in-python/\n",
    "s_time = time.time()\n",
    "\n",
    "# Read CSV files from List\n",
    "df = pd.concat(map(pd.read_csv, path_list))\n",
    "\n",
    "e_time = time.time()\n",
    "print(\"Processed in \", ((e_time-s_time)/60), \"minutes\")"
   ]
  },
  {
   "cell_type": "code",
   "execution_count": null,
   "id": "a69aa9d0",
   "metadata": {},
   "outputs": [],
   "source": [
    "df"
   ]
  },
  {
   "cell_type": "code",
   "execution_count": null,
   "id": "f1630cd1",
   "metadata": {},
   "outputs": [],
   "source": [
    "df.shape"
   ]
  },
  {
   "cell_type": "code",
   "execution_count": null,
   "id": "fd84f53f",
   "metadata": {},
   "outputs": [],
   "source": []
  }
 ],
 "metadata": {
  "kernelspec": {
   "display_name": "PythonData",
   "language": "python",
   "name": "pythondata"
  },
  "language_info": {
   "codemirror_mode": {
    "name": "ipython",
    "version": 3
   },
   "file_extension": ".py",
   "mimetype": "text/x-python",
   "name": "python",
   "nbconvert_exporter": "python",
   "pygments_lexer": "ipython3",
   "version": "3.7.7"
  }
 },
 "nbformat": 4,
 "nbformat_minor": 5
}
