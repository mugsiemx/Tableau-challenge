{
 "cells": [
  {
   "cell_type": "code",
   "execution_count": 76,
   "id": "b829732d",
   "metadata": {},
   "outputs": [],
   "source": [
    "# import dependencies\n",
    "import datetime as dt\n",
    "import pandas as pd\n",
    "import requests, io, zipfile, os"
   ]
  },
  {
   "cell_type": "code",
   "execution_count": 106,
   "id": "4f7e99a0",
   "metadata": {},
   "outputs": [],
   "source": [
    "# format of url = \"https://s3.amazonaws.com/tripdata/201306-citibike-tripdata.zip\"\n",
    "url_base = 'https://s3.amazonaws.com/tripdata/'\n",
    "\n",
    "root = 'citi_bike_data'\n",
    "\n",
    "result_files = []"
   ]
  },
  {
   "cell_type": "code",
   "execution_count": 109,
   "id": "00a1a75e",
   "metadata": {},
   "outputs": [
    {
     "name": "stdout",
     "output_type": "stream",
     "text": [
      "https://s3.amazonaws.com/tripdata/201703-citibike-tripdata.csv.zip\n",
      "Desktop/citi_bike_data\\2013-07 - Citi Bike trip data.csv\n",
      "Desktop/citi_bike_data\\201306-citibike-tripdata.csv\n",
      "Desktop/citi_bike_data\\201703-citibike-tripdata.csv\n"
     ]
    }
   ],
   "source": [
    "# files set up by month, get by 4 digit year and 2 digit month\n",
    "d = dt.date.today()\n",
    "# url_year = d.year\n",
    "# url_month = d.month\n",
    "\n",
    "url_year = 2017\n",
    "url_month = 3\n",
    "url_file_prefix = f'{url_year:04d}{url_month:02d}'\n",
    "# url_file_prefix\n",
    "\n",
    "# directory files same through 2016, changed for 2017\n",
    "url_file_2016 = '-citibike-tripdata.zip'\n",
    "url_file_2017 = '-citibike-tripdata.csv.zip'\n",
    "\n",
    "# substring = 'citibike-tripdata.csv'\n",
    "\n",
    "# build the proper url to get the data\n",
    "if url_year >= 2017:\n",
    "    url = url_base + url_file_prefix + url_file_2017\n",
    "else:\n",
    "    url = url_base + url_file_prefix + url_file_2016\n",
    "print(url)    \n",
    "r = requests.get(url)\n",
    "\n",
    "unzipfolder = zipfile.ZipFile(io.BytesIO(r.content))\n",
    "unzipfolder.extractall(root)\n",
    "\n",
    "for file in os.listdir(root):\n",
    "    if os.path.isfile(os.path.join(root, file)):\n",
    "        result_file = os.path.join(root, file)\n",
    "        print(result_file)"
   ]
  },
  {
   "cell_type": "code",
   "execution_count": 108,
   "id": "7a59e4e4",
   "metadata": {},
   "outputs": [
    {
     "data": {
      "text/plain": [
       "[]"
      ]
     },
     "execution_count": 108,
     "metadata": {},
     "output_type": "execute_result"
    }
   ],
   "source": [
    "result_files\n",
    "\n"
   ]
  },
  {
   "cell_type": "code",
   "execution_count": 64,
   "id": "4fe9b269",
   "metadata": {},
   "outputs": [],
   "source": []
  },
  {
   "cell_type": "code",
   "execution_count": 65,
   "id": "121a14ec",
   "metadata": {},
   "outputs": [],
   "source": []
  },
  {
   "cell_type": "code",
   "execution_count": 73,
   "id": "432055b5",
   "metadata": {},
   "outputs": [
    {
     "data": {
      "text/plain": [
       "['2013-07 - Citi Bike trip data.csv', '201306-citibike-tripdata.csv']"
      ]
     },
     "execution_count": 73,
     "metadata": {},
     "output_type": "execute_result"
    }
   ],
   "source": [
    "result_files"
   ]
  },
  {
   "cell_type": "code",
   "execution_count": 74,
   "id": "e2cf9596",
   "metadata": {},
   "outputs": [],
   "source": [
    "# df2 = pd.read_csv('201306-citibike-tripdata.csv', compression = 'zip', engine ='python')"
   ]
  },
  {
   "cell_type": "code",
   "execution_count": null,
   "id": "f3f9dc8e",
   "metadata": {},
   "outputs": [],
   "source": [
    "for result in result_files:\n",
    "    df2 = pd.read_csv(url2, compression = 'zip', engine ='python')"
   ]
  },
  {
   "cell_type": "code",
   "execution_count": null,
   "id": "63f9b14b",
   "metadata": {},
   "outputs": [],
   "source": [
    "df2"
   ]
  },
  {
   "cell_type": "code",
   "execution_count": null,
   "id": "6a9e9357",
   "metadata": {},
   "outputs": [],
   "source": []
  }
 ],
 "metadata": {
  "kernelspec": {
   "display_name": "PythonData",
   "language": "python",
   "name": "pythondata"
  },
  "language_info": {
   "codemirror_mode": {
    "name": "ipython",
    "version": 3
   },
   "file_extension": ".py",
   "mimetype": "text/x-python",
   "name": "python",
   "nbconvert_exporter": "python",
   "pygments_lexer": "ipython3",
   "version": "3.7.7"
  }
 },
 "nbformat": 4,
 "nbformat_minor": 5
}
