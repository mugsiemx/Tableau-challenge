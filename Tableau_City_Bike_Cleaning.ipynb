{
 "cells": [
  {
   "cell_type": "code",
   "execution_count": 1,
   "id": "ad51227e",
   "metadata": {},
   "outputs": [],
   "source": [
    "# import dependencies\n",
    "import datetime as dt\n",
    "import pandas as pd\n",
    "import numpy as np\n",
    "import requests, io, zipfile, os, time\n",
    "import urllib.request\n",
    "from urllib.error import URLError\n",
    "\n",
    "from dask import dataframe as df1"
   ]
  },
  {
   "cell_type": "code",
   "execution_count": 2,
   "id": "cfe94245",
   "metadata": {},
   "outputs": [],
   "source": [
    "# format of url = \"https://s3.amazonaws.com/tripdata/201306-citibike-tripdata.zip\"\n",
    "url_base = 'https://s3.amazonaws.com/tripdata/'\n",
    "\n",
    "root = 'Resources'\n",
    "\n",
    "result_files = []\n",
    "rename_files = []"
   ]
  },
  {
   "cell_type": "code",
   "execution_count": 3,
   "id": "a6364858",
   "metadata": {},
   "outputs": [
    {
     "name": "stdout",
     "output_type": "stream",
     "text": [
      "202303line 25\n",
      "0 this is i\n",
      "202303line 31\n",
      "https://s3.amazonaws.com/tripdata/202303-citibike-tripdata.csv.zip\n",
      "202303line 25\n",
      "1 this is i\n",
      "202302line 29\n",
      "202302line 31\n",
      "https://s3.amazonaws.com/tripdata/202302-citibike-tripdata.csv.zip\n"
     ]
    }
   ],
   "source": [
    "# files set up by month, get by 4 digit year and 2 digit month\n",
    "d = dt.date.today()\n",
    "url_year = d.year\n",
    "url_month = d.month - 1  #current month not in file\n",
    "url_file_prefix = f'{url_year:04d}{url_month:02d}'\n",
    "prefix = url_file_prefix\n",
    "\n",
    "# function for December file to create previous year January file info\n",
    "# def get_next_prefix(prefix):\n",
    "\n",
    "\n",
    "    \n",
    "# of months to loop through\n",
    "for i in range (2):\n",
    "    print(url_file_prefix + 'line 25')\n",
    "    print(str(i) + ' this is i')\n",
    "    prefix == url_file_prefix\n",
    "    if i != 0:\n",
    "        # loop back for the next month's file\n",
    "        url_year = int(prefix[:4])\n",
    "        url_month = int(prefix[-2:])\n",
    "            # on December, next previous is January of previous year\n",
    "        if url_month == 12:\n",
    "            url_year -= 1\n",
    "            url_month -= 11\n",
    "        else:\n",
    "            url_month -= 1\n",
    "        url_file_prefix = f'{url_year:04d}{url_month:02d}'\n",
    "        print(url_file_prefix + 'line 29')\n",
    "    \n",
    "    print(url_file_prefix + 'line 31')\n",
    "    # set up file name\n",
    "    new_file = url_file_prefix + '.csv'\n",
    "\n",
    "    # directory files same through 2016, changed for 2017\n",
    "    url_file_2016 = '-citibike-tripdata.zip'\n",
    "    url_file_2017 = '-citibike-tripdata.csv.zip'\n",
    "\n",
    "    # build the proper url to get data from files in the directory\n",
    "    if url_year >= 2017:\n",
    "        url = url_base + url_file_prefix + url_file_2017\n",
    "    else:\n",
    "        url = url_base + url_file_prefix + url_file_2016\n",
    "    print(url) \n",
    "\n",
    "    # make request for csv file\n",
    "    r = requests.get(url)\n",
    "    un_zipped = zipfile.ZipFile(io.BytesIO(r.content))\n",
    "    \n",
    "    # download only the existing file in the root directory\n",
    "    with un_zipped as zf:\n",
    "        for file in zf.namelist():\n",
    "            \n",
    "            # not in root directory, pass, otherwise save\n",
    "            if file.startswith('_'):\n",
    "                pass\n",
    "            else:\n",
    "                zf.extract(file, root)                        \n",
    "                result_files.append(file)\n",
    "                rename_files.append(new_file)\n",
    "    \n",
    "\n"
   ]
  },
  {
   "cell_type": "code",
   "execution_count": 4,
   "id": "1405e045",
   "metadata": {},
   "outputs": [],
   "source": [
    "# Function to rename files for clarity and easier looping to combine the data\n",
    "##  https://www.tutorialspoint.com/rename-multiple-files-using-python\n",
    "\n",
    "def main():\n",
    "    for i, file in enumerate(os.listdir(root)):\n",
    "        source = f'{root}/{result_files[i]}'\n",
    "        destination = f'{root}/{rename_files[i]}'\n",
    "        os.rename(source, destination)\n",
    "# Driver Code\n",
    "if __name__ == '__main__':     \n",
    "    # Calling main() function\n",
    "    main()"
   ]
  },
  {
   "cell_type": "code",
   "execution_count": 7,
   "id": "e4e6ff60",
   "metadata": {},
   "outputs": [
    {
     "name": "stdout",
     "output_type": "stream",
     "text": [
      "dask_202303.csv_df\n",
      "dask_202302.csv_df\n"
     ]
    }
   ],
   "source": [
    "# run the dask dataframes to organize the data\n",
    "for i, csv_file in enumerate(rename_files):\n",
    "    print(f'dask_{rename_files[i]}_df')\n",
    "    # time taken to read data\n",
    "    ## Using dask documentation/code from https://www.geeksforgeeks.org/working-with-large-csv-files-in-python/\n",
    "#     s_time_dask = time.time()\n",
    "#     dask_{rename_files}[i]_df = df1.read_csv('gender_voice_dataset.csv')\n",
    "#     e_time_dask = time.time()\n",
    "\n",
    "#     print(\"Read with dask: \", (e_time_dask-s_time_dask), \"seconds\")"
   ]
  },
  {
   "cell_type": "code",
   "execution_count": null,
   "id": "278f93fc",
   "metadata": {},
   "outputs": [],
   "source": [
    "result_files\n",
    "\n"
   ]
  },
  {
   "cell_type": "code",
   "execution_count": null,
   "id": "217d1fdc",
   "metadata": {},
   "outputs": [],
   "source": [
    "rename_files"
   ]
  },
  {
   "cell_type": "code",
   "execution_count": null,
   "id": "6ae1bed2",
   "metadata": {},
   "outputs": [],
   "source": [
    "# time taken to read data\n",
    "## Using dask documentation/code from https://www.geeksforgeeks.org/working-with-large-csv-files-in-python/\n",
    "\n",
    "s_time_dask = time.time()\n",
    "dask_df = df1.read_csv('gender_voice_dataset.csv')\n",
    "e_time_dask = time.time()\n",
    "  \n",
    "print(\"Read with dask: \", (e_time_dask-s_time_dask), \"seconds\")"
   ]
  },
  {
   "cell_type": "code",
   "execution_count": null,
   "id": "75fc8c4f",
   "metadata": {},
   "outputs": [],
   "source": []
  },
  {
   "cell_type": "code",
   "execution_count": null,
   "id": "2a43c289",
   "metadata": {},
   "outputs": [],
   "source": []
  }
 ],
 "metadata": {
  "kernelspec": {
   "display_name": "PythonData",
   "language": "python",
   "name": "pythondata"
  },
  "language_info": {
   "codemirror_mode": {
    "name": "ipython",
    "version": 3
   },
   "file_extension": ".py",
   "mimetype": "text/x-python",
   "name": "python",
   "nbconvert_exporter": "python",
   "pygments_lexer": "ipython3",
   "version": "3.7.7"
  }
 },
 "nbformat": 4,
 "nbformat_minor": 5
}
