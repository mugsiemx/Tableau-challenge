{
 "cells": [
  {
   "cell_type": "code",
   "execution_count": 1,
   "id": "b6eb7e80",
   "metadata": {},
   "outputs": [],
   "source": [
    "# import dependencies\n",
    "import datetime as dt\n",
    "import pandas as pd\n",
    "import numpy as np\n",
    "import requests, io, zipfile, os, time\n",
    "import dask.dataframe as dd"
   ]
  },
  {
   "cell_type": "code",
   "execution_count": 2,
   "id": "91070dfb",
   "metadata": {},
   "outputs": [
    {
     "name": "stdout",
     "output_type": "stream",
     "text": [
      "Processed in  0.00026700496673583987 minutes\n"
     ]
    },
    {
     "data": {
      "text/plain": [
       "Unnamed: 0              int64\n",
       "ride_id                object\n",
       "rideable_type          object\n",
       "started_at             object\n",
       "ended_at               object\n",
       "start_station_name     object\n",
       "start_station_id       object\n",
       "end_station_name       object\n",
       "end_station_id         object\n",
       "start_lat             float64\n",
       "start_lng             float64\n",
       "end_lat               float64\n",
       "end_lng               float64\n",
       "member_casual          object\n",
       "dtype: object"
      ]
     },
     "execution_count": 2,
     "metadata": {},
     "output_type": "execute_result"
    }
   ],
   "source": [
    "# read in full csv and scale for analysis\n",
    "\n",
    "# for curiosity, time taken to read data\n",
    "## dask documentation from https://www.geeksforgeeks.org/working-with-large-csv-files-in-python/\n",
    "s_time = time.time()\n",
    "\n",
    "# Read CSV files from List\n",
    "ddf = dd.read_csv(\"full_raw_data.csv\",\n",
    "            low_memory=False,\n",
    "            dtype={\n",
    "                    'end_station_id': 'object',\n",
    "                    'start_station_id': 'object'\n",
    "                  },\n",
    "                 )\n",
    "\n",
    "# end of data read, print time report\n",
    "e_time = time.time()\n",
    "print(\"Processed in \", ((e_time-s_time)/60), \"minutes\")\n",
    "\n",
    "ddf.dtypes"
   ]
  },
  {
   "cell_type": "code",
   "execution_count": 3,
   "id": "3c3ec658",
   "metadata": {},
   "outputs": [
    {
     "name": "stdout",
     "output_type": "stream",
     "text": [
      "Processed in  1.5661867380142211 minutes\n"
     ]
    }
   ],
   "source": [
    "# dask compute the DataFrame values\n",
    "##  to create the pandas DataFrame\n",
    "\n",
    "s_time = time.time()\n",
    "df = ddf.compute()\n",
    "e_time = time.time()\n",
    "print(\"Processed in \", ((e_time-s_time)/60), \"minutes\")"
   ]
  },
  {
   "cell_type": "code",
   "execution_count": 4,
   "id": "6927f5d0",
   "metadata": {},
   "outputs": [],
   "source": [
    "# # create pandas DataFrame\n",
    "\n",
    "# s_time = time.time()\n",
    "# df = pd.DataFrame(ddf)\n",
    "# e_time = time.time()\n",
    "# print(\"Processed in \", ((e_time-s_time)/60), \"minutes\")"
   ]
  },
  {
   "cell_type": "code",
   "execution_count": 5,
   "id": "16826557",
   "metadata": {},
   "outputs": [
    {
     "name": "stdout",
     "output_type": "stream",
     "text": [
      "df contains 57256026 rows and 14 columns.\n",
      "~~~~~~~~~~~~~~~~~~~~~~~~~~~~~~~~~~~~~~~~~~~~~~~~~~\n"
     ]
    },
    {
     "data": {
      "text/plain": [
       "Unnamed: 0              int64\n",
       "ride_id                object\n",
       "rideable_type          object\n",
       "started_at             object\n",
       "ended_at               object\n",
       "start_station_name     object\n",
       "start_station_id       object\n",
       "end_station_name       object\n",
       "end_station_id         object\n",
       "start_lat             float64\n",
       "start_lng             float64\n",
       "end_lat               float64\n",
       "end_lng               float64\n",
       "member_casual          object\n",
       "dtype: object"
      ]
     },
     "execution_count": 5,
     "metadata": {},
     "output_type": "execute_result"
    }
   ],
   "source": [
    "print(f'df contains {df.shape[0]} rows and {df.shape[1]} columns.')\n",
    "print('~' * 50)\n",
    "df.dtypes"
   ]
  },
  {
   "cell_type": "code",
   "execution_count": 6,
   "id": "9ba7cd01",
   "metadata": {},
   "outputs": [],
   "source": [
    "# set up date formats and rename columns\n",
    "\n",
    "##  start date/time\n",
    "df[\"started_at\"] = df[\"started_at\"].astype('datetime64[ns]')\n",
    "df['ride_year'] = df['started_at'].dt.year\n",
    "df['ride_month'] = df['started_at'].dt.month_name\n",
    "df['ride_weekday'] = df['started_at'].dt.day_name\n",
    "df['ride_hour'] = df['started_at'].dt.hour\n",
    "\n",
    "\n",
    "##  end date/time\n",
    "df[\"ended_at\"] = df[\"ended_at\"].astype('datetime64[ns]')\n",
    "\n",
    "## add column for ride time\n",
    "df['ride_minutes'] = df[\"ended_at\"] - df[\"started_at\"]\n",
    "\n",
    "# rename columns\n",
    "df = df.rename(columns={\n",
    "                        'start_station_name' : 'start_station',\n",
    "                        'end_station_name': 'end_station',\n",
    "                        'rideable_type': 'ride_type',\n",
    "                        'member_casual' : 'member_type'\n",
    "                        })"
   ]
  },
  {
   "cell_type": "code",
   "execution_count": 7,
   "id": "7887dd2f",
   "metadata": {},
   "outputs": [
    {
     "data": {
      "text/plain": [
       "Unnamed: 0                    int64\n",
       "ride_id                      object\n",
       "ride_type                    object\n",
       "started_at           datetime64[ns]\n",
       "ended_at             datetime64[ns]\n",
       "start_station                object\n",
       "start_station_id             object\n",
       "end_station                  object\n",
       "end_station_id               object\n",
       "start_lat                   float64\n",
       "start_lng                   float64\n",
       "end_lat                     float64\n",
       "end_lng                     float64\n",
       "member_type                  object\n",
       "ride_year                     int64\n",
       "ride_month                   object\n",
       "ride_weekday                 object\n",
       "ride_hour                     int64\n",
       "ride_minutes        timedelta64[ns]\n",
       "dtype: object"
      ]
     },
     "execution_count": 7,
     "metadata": {},
     "output_type": "execute_result"
    }
   ],
   "source": [
    "df.dtypes"
   ]
  },
  {
   "cell_type": "code",
   "execution_count": 8,
   "id": "d158fb54",
   "metadata": {},
   "outputs": [],
   "source": [
    "# select columns for final csv file\n",
    "\n",
    "df_cleaned = pd.DataFrame(df, columns={\n",
    "                                    'start_station',    \n",
    "                                    'end_station',\n",
    "                                    'ride_year',\n",
    "                                    'ride_month',\n",
    "                                    'ride_weekday',\n",
    "                                    'ride_hour',\n",
    "                                    'ride_minutes',\n",
    "                                    'ride_type',\n",
    "                                    'member_type'    \n",
    "                                    })"
   ]
  },
  {
   "cell_type": "code",
   "execution_count": 11,
   "id": "cca2d2c9",
   "metadata": {},
   "outputs": [
    {
     "name": "stdout",
     "output_type": "stream",
     "text": [
      "<class 'pandas.core.frame.DataFrame'>\n",
      "Int64Index: 57256026 entries, 0 to 172027\n",
      "Data columns (total 9 columns):\n",
      " #   Column         Dtype          \n",
      "---  ------         -----          \n",
      " 0   ride_month     object         \n",
      " 1   ride_type      object         \n",
      " 2   ride_weekday   object         \n",
      " 3   ride_minutes   timedelta64[ns]\n",
      " 4   ride_hour      int64          \n",
      " 5   end_station    object         \n",
      " 6   ride_year      int64          \n",
      " 7   member_type    object         \n",
      " 8   start_station  object         \n",
      "dtypes: int64(2), object(6), timedelta64[ns](1)\n",
      "memory usage: 4.3+ GB\n"
     ]
    }
   ],
   "source": [
    "df_cleaned.info()"
   ]
  },
  {
   "cell_type": "code",
   "execution_count": null,
   "id": "451e8cf3",
   "metadata": {},
   "outputs": [],
   "source": [
    "# send  cleaned df to csv file\n",
    "path = f'clean_data.csv'\n",
    "df_cleaned.to_csv(path)"
   ]
  },
  {
   "cell_type": "code",
   "execution_count": null,
   "id": "c9c1e403",
   "metadata": {},
   "outputs": [],
   "source": []
  }
 ],
 "metadata": {
  "kernelspec": {
   "display_name": "PythonData",
   "language": "python",
   "name": "pythondata"
  },
  "language_info": {
   "codemirror_mode": {
    "name": "ipython",
    "version": 3
   },
   "file_extension": ".py",
   "mimetype": "text/x-python",
   "name": "python",
   "nbconvert_exporter": "python",
   "pygments_lexer": "ipython3",
   "version": "3.7.7"
  }
 },
 "nbformat": 4,
 "nbformat_minor": 5
}
