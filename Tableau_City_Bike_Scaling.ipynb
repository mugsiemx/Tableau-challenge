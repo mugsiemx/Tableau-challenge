{
 "cells": [
  {
   "cell_type": "code",
   "execution_count": null,
   "id": "4f5b71f5",
   "metadata": {},
   "outputs": [],
   "source": [
    "# import dependencies\n",
    "import datetime as dt\n",
    "import pandas as pd\n",
    "import numpy as np\n",
    "import requests, io, zipfile, os, time\n",
    "import dask.dataframe as dd"
   ]
  },
  {
   "cell_type": "code",
   "execution_count": null,
   "id": "93f475b2",
   "metadata": {},
   "outputs": [],
   "source": [
    "# read in full csv and scale for analysis\n",
    "\n",
    "# for curiosity, time taken to read data\n",
    "## dask documentation from https://www.geeksforgeeks.org/working-with-large-csv-files-in-python/\n",
    "s_time = time.time()\n",
    "\n",
    "# Read CSV files from List\n",
    "ddf = dd.read_csv(\"full_raw_data.csv\",\n",
    "            low_memory=False,\n",
    "            dtype={\n",
    "                    'end_station_id': 'object',\n",
    "                    'start_station_id': 'object'\n",
    "                  },\n",
    "                 )\n",
    "\n",
    "# end of data read, print time report\n",
    "e_time = time.time()\n",
    "print(\"Processed in \", ((e_time-s_time)/60), \"minutes\")\n",
    "\n",
    "ddf.dtypes"
   ]
  },
  {
   "cell_type": "code",
   "execution_count": null,
   "id": "839954f6",
   "metadata": {},
   "outputs": [],
   "source": [
    "# dask compute the DataFrame values\n",
    "##  to create the pandas DataFrame\n",
    "\n",
    "s_time = time.time()\n",
    "df = ddf.compute()\n",
    "e_time = time.time()\n",
    "print(\"Processed in \", ((e_time-s_time)/60), \"minutes\")"
   ]
  },
  {
   "cell_type": "code",
   "execution_count": null,
   "id": "90cbcd4f",
   "metadata": {},
   "outputs": [],
   "source": [
    "# # create pandas DataFrame\n",
    "\n",
    "# s_time = time.time()\n",
    "# df = pd.DataFrame(ddf)\n",
    "# e_time = time.time()\n",
    "# print(\"Processed in \", ((e_time-s_time)/60), \"minutes\")"
   ]
  },
  {
   "cell_type": "code",
   "execution_count": null,
   "id": "e9139847",
   "metadata": {},
   "outputs": [],
   "source": [
    "print(f'df contains {df.shape[0]} rows and {df.shape[1]} columns.')\n",
    "print('~' * 50)\n",
    "df.dtypes"
   ]
  },
  {
   "cell_type": "code",
   "execution_count": null,
   "id": "4716ba5e",
   "metadata": {},
   "outputs": [],
   "source": [
    "# set up date formats and rename columns\n",
    "\n",
    "##  start date/time\n",
    "df[\"started_at\"] = df[\"started_at\"].astype('datetime64[ns]')\n",
    "df['started_year'] = df['started_at'].dt.year\n",
    "df['started_month'] = df['started_at'].dt.month_name\n",
    "df['started_weekday'] = df['started_at'].dt.day_name\n",
    "df['started_hour'] = df['started_at'].dt.hour\n",
    "\n",
    "\n",
    "##  end date/time\n",
    "df[\"ended_at\"] = df[\"ended_at\"].astype('datetime64[ns]')\n",
    "\n",
    "## add column for ride time\n",
    "df['ride_minutes'] = df[\"ended_at\"] - df[\"started_at\"]\n",
    "\n",
    "# rename columns\n",
    "df = df.rename(columns={\n",
    "                        'start_station_name' : 'start_station',\n",
    "                        'end_station_name': 'end_station',\n",
    "                        'member_casual' : 'member_type'\n",
    "                        })"
   ]
  },
  {
   "cell_type": "code",
   "execution_count": null,
   "id": "8ecc3220",
   "metadata": {},
   "outputs": [],
   "source": [
    "df.dtypes"
   ]
  },
  {
   "cell_type": "code",
   "execution_count": null,
   "id": "b36c1d82",
   "metadata": {},
   "outputs": [],
   "source": [
    "# select columns for final csv file\n",
    "\n",
    "df_cleaned = pd.DataFrame(df, columns={\n",
    "                                    'start_station_name',    \n",
    "                                    'end_station_name',\n",
    "                                    'started_year',\n",
    "                                    'started_month',\n",
    "                                    'started_hour',\n",
    "                                    'ride_minutes',\n",
    "                                    'rideable_type',\n",
    "                                    'member_type'    \n",
    "                                    })"
   ]
  },
  {
   "cell_type": "code",
   "execution_count": null,
   "id": "ed2e3627",
   "metadata": {},
   "outputs": [],
   "source": [
    "df.info()"
   ]
  },
  {
   "cell_type": "code",
   "execution_count": null,
   "id": "2b2271a5",
   "metadata": {},
   "outputs": [],
   "source": [
    "# send end_df rides to csv file\n",
    "path = f'{root}/clean_data.csv'\n",
    "end_df.to_csv(path)"
   ]
  },
  {
   "cell_type": "code",
   "execution_count": null,
   "id": "a8ad0cea",
   "metadata": {},
   "outputs": [],
   "source": []
  }
 ],
 "metadata": {
  "kernelspec": {
   "display_name": "PythonData",
   "language": "python",
   "name": "pythondata"
  },
  "language_info": {
   "codemirror_mode": {
    "name": "ipython",
    "version": 3
   },
   "file_extension": ".py",
   "mimetype": "text/x-python",
   "name": "python",
   "nbconvert_exporter": "python",
   "pygments_lexer": "ipython3",
   "version": "3.7.7"
  }
 },
 "nbformat": 4,
 "nbformat_minor": 5
}
